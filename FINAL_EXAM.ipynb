{
 "cells": [
  {
   "cell_type": "markdown",
   "metadata": {
    "collapsed": false
   },
   "source": [
    "# ATMS 391 Geophysical Data Analysis\n",
    "## Final Exam\n",
    "---\n",
    "\n",
    "Instructions: Do your best to complete the exam by 10:00.  The exam will be collected at that time for grading.  Good luck, and have a an awesome summer!\n",
    "\n",
    "Each problem is worth 20 points.  Each part of each problem is worth equal weight in the question total.  *All graphs must have appropriate titles and axis labels (with units) for full credit.*\n",
    "\n",
    "\n",
    "---"
   ]
  },
  {
   "cell_type": "markdown",
   "metadata": {
    "collapsed": false
   },
   "source": [
    "## Problem 1\n",
    "\n",
    "The file max_t.csv, which is a comma separated values text file, contains daily high temperatures for a month for Champaign and Peoria, Illinois.\n",
    "\n",
    "(a) What is the mean and standard deviation of the data for each city?\n",
    "\n",
    "Please format your answer like this with actual numbers replacing \"#\".\n",
    "\n",
    "Means - Champaign: ##.##F, Peoria: ##.##F\n",
    "\n",
    "Standard Deviations - Champaign: #.##F, Peoria: #.##F"
   ]
  },
  {
   "cell_type": "code",
   "execution_count": 5,
   "metadata": {
    "collapsed": false
   },
   "outputs": [
    {
     "name": "stdout",
     "output_type": "stream",
     "text": [
      "Champaign mean: 82.2616, Peoria mean: 76.867\n",
      "Champaign std: 7.28888, Peoria std: 6.06586\n"
     ]
    }
   ],
   "source": [
   ]
  },
  {
   "cell_type": "markdown",
   "metadata": {
    "collapsed": false
   },
   "source": [
    "(b) What is the 5th and 95th percentile of the data for each city?\n",
    "\n",
    "Please format your answer like this:\n",
    "\n",
    "Champaign 5th: ##.##F, Peoria 5th: ##.##F\n",
    "\n",
    "Champaign 95th: ##.##F, Peoria 95th: ##.##F"
   ]
  },
  {
   "cell_type": "code",
   "execution_count": 7,
   "metadata": {
    "collapsed": false
   },
   "outputs": [
    {
     "name": "stdout",
     "output_type": "stream",
     "text": [
      "Champaign 5th: 73.0069, Peoria 5th: 66.7174\n",
      "Champaign 95th: 92.4134, Peoria 95th: 84.8482\n"
     ]
    }
   ],
   "source": [
   ]
  },
  {
   "cell_type": "markdown",
   "metadata": {
    "collapsed": false
   },
   "source": [
    "(c) Plot a histogram of the data for each city (on the same plot) with bins ranging from 60 to 110 with binsizes of 5."
   ]
  },
  {
   "cell_type": "code",
   "execution_count": 8,
   "metadata": {
    "collapsed": false
   },
   "outputs": [
    {
     "data": {
      "image/png": "[encoded data removed]"
     },
     "execution_count": 8,
     "metadata": {
     },
     "output_type": "execute_result"
    }
   ],
   "source": [
   ]
  },
  {
   "cell_type": "markdown",
   "metadata": {
    "collapsed": false
   },
   "source": [
    "(d) Plot a cumulative distribution function of the data for each city on the same axes, using the data in (c)."
   ]
  },
  {
   "cell_type": "code",
   "execution_count": 9,
   "metadata": {
    "collapsed": false
   },
   "outputs": [
    {
     "data": {
      "image/png": "[encoded data removed]"
     },
     "execution_count": 9,
     "metadata": {
     },
     "output_type": "execute_result"
    }
   ],
   "source": [
   ]
  },
  {
   "cell_type": "markdown",
   "metadata": {
    "collapsed": false
   },
   "source": [
    "Format it like this and select either one in the parentheses:\n",
    "\n",
    "p-value is 0.#### and because it is (less than/greater than) #.##, it is statistically (significant/insignificant) so we can (accept/reject) the null hypothesis and the means are (indeed/not significantly) different at 95% level."
   ]
  },
  {
   "cell_type": "code",
   "execution_count": 11,
   "metadata": {
    "collapsed": false
   },
   "outputs": [
    {
     "name": "stdout",
     "output_type": "stream",
     "text": [
      "p value = 0.00281262\n"
     ]
    }
   ],
   "source": [
   ]
  },
  {
   "cell_type": "markdown",
   "metadata": {
    "collapsed": false
   },
   "source": [
    "---\n",
    "## Problem 2\n",
    "\n",
    "The file 20151213_0000_slp.nc is a netCDF file that contains mean sea level pressure (in Pascals, or Pa) from the NCEP Reanalysis for December 13, 2015 at 00:00 UTC.  The variable for mean sea level pressure is 'slp'."
   ]
  },
  {
   "cell_type": "markdown",
   "metadata": {
    "collapsed": false
   },
   "source": [
    "(1) Plot a map of slp over the globe in **hPa** (1 hPa = 100 Pa, the units of the data are in Pa).  Be sure to include coastlines, countries, states, color bar labels, and title that includes the time the map is valid."
   ]
  },
  {
   "cell_type": "code",
   "execution_count": 1,
   "metadata": {
    "collapsed": false
   },
   "outputs": [
    {
     "name": "stderr",
     "output_type": "stream",
     "text": [
      "/projects/5aeec648-46ad-40c6-af03-9a8215dee00d/.local/lib/python3.5/site-packages/xarray/conventions.py:9: FutureWarning: The pandas.tslib module is deprecated and will be removed in a future version.\n",
      "  from pandas.tslib import OutOfBoundsDatetime\n"
     ]
    },
    {
     "data": {
      "text/plain": [
       "<xarray.Dataset>\n",
       "Dimensions:  (lat: 73, lon: 144, time: 1)\n",
       "Coordinates:\n",
       "  * lat      (lat) float32 90.0 87.5 85.0 82.5 80.0 77.5 75.0 72.5 70.0 67.5 ...\n",
       "  * lon      (lon) float32 0.0 2.5 5.0 7.5 10.0 12.5 15.0 17.5 20.0 22.5 ...\n",
       "  * time     (time) datetime64[ns] 2015-12-13\n",
       "Data variables:\n",
       "    slp      (time, lat, lon) float64 1.018e+05 1.018e+05 1.018e+05 ...\n",
       "Attributes:\n",
       "    Conventions: COARDS\n",
       "    title: 4x daily NMC reanalysis (2014)\n",
       "    history: Wed Dec 16 08:59:52 2015: ncks -O -d lat,-90.000000,90.000000 -d lon,0.000000,357.500000 -d time,1384,1384 /Datasets/ncep.reanalysis/surface/slp.2015.nc /Public/www/X67.207.97.140.349.8.59.51.nc\n",
       "created 2013/12 by Hoop (netCDF2.3)\n",
       "    description: Data is from NMC initialized reanalysis\n",
       "(4x/day).  It consists of most variables interpolated to\n",
       "pressure surfaces from model (sigma) surfaces.\n",
       "    platform: Model\n",
       "    References: http://www.esrl.noaa.gov/psd/data/gridded/data.ncep.reanalysis.html\n",
       "    NCO: 4.2.6"
      ]
     },
     "execution_count": 1,
     "metadata": {
     },
     "output_type": "execute_result"
    }
   ],
   "source": [
    "import xarray as xr\n",
    "\n",
    "xr.open_dataset('20151213_0000_slp.nc')"
   ]
  },
  {
   "cell_type": "markdown",
   "metadata": {
    "collapsed": false
   },
   "source": [
    "(2) What are the 5th and 95th percentiles of the SLP (in hPa) at this time?\n",
    "\n",
    "Please format as follows:\n",
    "\n",
    "```\n",
    "5th percentile: ###.# hPa; 95th percentile: ####.# hPa\n",
    "```"
   ]
  },
  {
   "cell_type": "code",
   "execution_count": 13,
   "metadata": {
    "collapsed": false
   },
   "outputs": [
    {
     "name": "stdout",
     "output_type": "stream",
     "text": [
      "989.1\n",
      "1025.7\n"
     ]
    }
   ],
   "source": [
   ]
  },
  {
   "cell_type": "markdown",
   "metadata": {
    "collapsed": false
   },
   "source": [
    "(3) How many data points are in the 0-5th percentile?  How about the 95-100th percentile?\n",
    "\n",
    "Please format as follows:\n",
    "```\n",
    "There are ### points in the 0-5th percentile, and ### points in the 95-100th percentile.\n",
    "```"
   ]
  },
  {
   "cell_type": "code",
   "execution_count": 0,
   "metadata": {
    "collapsed": true
   },
   "outputs": [
   ],
   "source": [
   ]
  },
  {
   "cell_type": "markdown",
   "metadata": {
    "collapsed": false
   },
   "source": [
    "(4) Make a line plot of latitude versus slp, with three lines: minimum, mean, and maximum at each latitude.  Include a legend, and label axes and title."
   ]
  },
  {
   "cell_type": "code",
   "execution_count": 0,
   "metadata": {
    "collapsed": true
   },
   "outputs": [
   ],
   "source": [
   ]
  }
 ],
 "metadata": {
  "kernelspec": {
   "display_name": "Python 3 (Anaconda)",
   "language": "python",
   "name": "anaconda3"
  },
  "language_info": {
   "codemirror_mode": {
    "name": "ipython",
    "version": 3
   },
   "file_extension": ".py",
   "mimetype": "text/x-python",
   "name": "python",
   "nbconvert_exporter": "python",
   "pygments_lexer": "ipython3",
   "version": "3.5.3"
  },
  "name": "final exam.ipynb"
 },
 "nbformat": 4,
 "nbformat_minor": 0
}