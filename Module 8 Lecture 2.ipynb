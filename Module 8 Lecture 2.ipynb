{
 "cells": [
  {
   "cell_type": "markdown",
   "metadata": {},
   "source": [
    "# ATMS 305: Module 8 Lecture 2\n",
    "Mapping with `cartopy`\n",
    "---"
   ]
  },
  {
   "cell_type": "code",
   "execution_count": null,
   "metadata": {},
   "outputs": [],
   "source": [
    "%pylab inline\n",
    "import xarray as xr\n",
    "import pandas as pd\n",
    "!pip install netcdf4  #install these if not installed\n",
    "!pip install pydap"
   ]
  },
  {
   "cell_type": "markdown",
   "metadata": {},
   "source": [
    "## Introduction to mapping with `cartopy`.\n",
    "\n",
    "Python's `cartopy` is a package that is designed to enable `matplotlib` handle geographic calculations and visualize maps with geographic boundaries.  We can then use `matplotlib` to make maps, and off we go!"
   ]
  },
  {
   "cell_type": "code",
   "execution_count": null,
   "metadata": {},
   "outputs": [],
   "source": [
    "#install cartopy if need be - should be default in ATMS 305 Azure Notebooks\n",
    "!pip install cartopy"
   ]
  },
  {
   "cell_type": "markdown",
   "metadata": {},
   "source": [
    "Cartopy has exposed an interface to enable easy map creation using matplotlib. Creating a basic map is as simple as telling matplotlib to use a specific map projection, and then adding some coastlines to the axes:"
   ]
  },
  {
   "cell_type": "code",
   "execution_count": null,
   "metadata": {},
   "outputs": [],
   "source": [
    "import cartopy.crs as ccrs\n",
    "import matplotlib.pyplot as plt\n",
    "\n",
    "ax = plt.axes(projection=ccrs.PlateCarree())\n",
    "ax.coastlines()\n",
    "\n",
    "plt.show()"
   ]
  },
  {
   "cell_type": "markdown",
   "metadata": {},
   "source": [
    "A list of the available projections to be used with `matplotlib` can be found on the Cartopy projection list page.\n",
    "\n",
    "The line `plt.axes(projection=ccrs.PlateCarree())` sets up a `GeoAxes` instance which exposes a variety of other map related methods, in the case of the previous example, we used the `coastlines()` method to add coastlines to the map.\n",
    "\n",
    "Lets create another map in a different projection, and make use of the `stock_img()` method to add an underlay image to the map:"
   ]
  },
  {
   "cell_type": "code",
   "execution_count": null,
   "metadata": {},
   "outputs": [],
   "source": [
    "import cartopy.crs as ccrs\n",
    "import matplotlib.pyplot as plt\n",
    "\n",
    "ax = plt.axes(projection=ccrs.Mollweide())\n",
    "ax.stock_img()\n",
    "plt.show()"
   ]
  },
  {
   "cell_type": "markdown",
   "metadata": {},
   "source": [
    "## Adding data to the map\n",
    "Once you have the map just the way you want it, data can be added to it in exactly the same way as with normal matplotlib axes. By default, the coordinate system of any data added to a GeoAxes is the same as the coordinate system of the GeoAxes itself, to control which coordinate system that the given data is in, you can add the `transform` keyword with an appropriate `cartopy.crs.CRS` instance:"
   ]
  },
  {
   "cell_type": "code",
   "execution_count": null,
   "metadata": {},
   "outputs": [],
   "source": [
    "import cartopy.crs as ccrs\n",
    "import matplotlib.pyplot as plt\n",
    "\n",
    "ax = plt.axes(projection=ccrs.PlateCarree())\n",
    "ax.stock_img()\n",
    "\n",
    "ny_lon, ny_lat = -75, 43\n",
    "delhi_lon, delhi_lat = 77.23, 28.61\n",
    "\n",
    "plt.plot([ny_lon, delhi_lon], [ny_lat, delhi_lat],\n",
    "         color='blue', linewidth=2, marker='o',\n",
    "         transform=ccrs.Geodetic(),\n",
    "         )\n",
    "\n",
    "plt.plot([ny_lon, delhi_lon], [ny_lat, delhi_lat],\n",
    "         color='gray', linestyle='--',\n",
    "         transform=ccrs.PlateCarree(),\n",
    "         )\n",
    "\n",
    "plt.text(ny_lon - 3, ny_lat - 12, 'New York',\n",
    "         horizontalalignment='right',\n",
    "         transform=ccrs.Geodetic())\n",
    "\n",
    "plt.text(delhi_lon + 3, delhi_lat - 12, 'Delhi',\n",
    "         horizontalalignment='left',\n",
    "         transform=ccrs.Geodetic())\n",
    "\n",
    "plt.show()"
   ]
  },
  {
   "cell_type": "markdown",
   "metadata": {},
   "source": [
    "# More advanced mapping with `cartopy` and `matplotlib`\n",
    "\n",
    "From the outset, `cartopy`’s purpose has been to simplify and improve the quality of mapping visualisations available for scientific data. Thanks to the simplicity of the cartopy interface, in many cases the hardest part of producing such visualisations is getting hold of the data in the first place. "
   ]
  },
  {
   "cell_type": "code",
   "execution_count": null,
   "metadata": {},
   "outputs": [],
   "source": [
    "import os\n",
    "import matplotlib.pyplot as plt\n",
    "\n",
    "import numpy as np\n",
    "\n",
    "from cartopy import config\n",
    "import cartopy.crs as ccrs\n",
    "\n",
    "\n",
    "# get the path of the file. It can be found in the repo data directory.\n",
    "sst_data = xr.open_dataset('https://www.ncei.noaa.gov/thredds/dodsC/ncFC/fc-oisst-daily-avhrr-only-dly/OISST_Daily_AVHRR-only_Feature_Collection_best.ncd').sel(time=pd.datetime(2017,8,1))\n",
    "\n",
    "sst_data"
   ]
  },
  {
   "cell_type": "code",
   "execution_count": null,
   "metadata": {},
   "outputs": [],
   "source": [
    "plt.figure(figsize=(10,5))\n",
    "\n",
    "ax = plt.axes(projection=ccrs.PlateCarree())\n",
    "\n",
    "plt.contourf(sst_data['lon'], sst_data['lat'], sst_data['sst'].values.squeeze(), 20,\n",
    "             transform=ccrs.PlateCarree())\n",
    "\n",
    "plt.title(sst_data.title+'\\n'+str(sst_data['time'].values))\n",
    "ax.coastlines()\n",
    "\n",
    "plt.colorbar()\n",
    "plt.tight_layout()\n",
    "plt.show()"
   ]
  },
  {
   "cell_type": "markdown",
   "metadata": {},
   "source": [
    "## Vector plotting\n",
    "\n",
    "Cartopy comes with powerful vector field plotting functionality. There are 3 distinct options for visualising vector fields: quivers, barbs, and streamplots, each with their own benefits for displaying certain vector field forms."
   ]
  },
  {
   "cell_type": "code",
   "execution_count": null,
   "metadata": {},
   "outputs": [],
   "source": [
    "import matplotlib.pyplot as plt\n",
    "import numpy as np\n",
    "\n",
    "import cartopy\n",
    "import cartopy.crs as ccrs\n",
    "\n",
    "\n",
    "def sample_data(shape=(20, 30)):\n",
    "    \"\"\"\n",
    "    Returns ``(x, y, u, v, crs)`` of some vector data\n",
    "    computed mathematically. The returned crs will be a rotated\n",
    "    pole CRS, meaning that the vectors will be unevenly spaced in\n",
    "    regular PlateCarree space.\n",
    "\n",
    "    \"\"\"\n",
    "    crs = ccrs.RotatedPole(pole_longitude=177.5, pole_latitude=37.5)\n",
    "\n",
    "    x = np.linspace(311.9, 391.1, shape[1])\n",
    "    y = np.linspace(-23.6, 24.8, shape[0])\n",
    "\n",
    "    x2d, y2d = np.meshgrid(x, y)\n",
    "    u = 10 * (2 * np.cos(2 * np.deg2rad(x2d) + 3 * np.deg2rad(y2d + 30)) ** 2)\n",
    "    v = 20 * np.cos(6 * np.deg2rad(x2d))\n",
    "\n",
    "    return x, y, u, v, crs\n",
    "\n",
    "plt.figure(figsize=(10,10))\n",
    "\n",
    "ax = plt.axes(projection=ccrs.Orthographic(-10, 45))\n",
    "\n",
    "ax.add_feature(cartopy.feature.OCEAN, zorder=0)\n",
    "ax.add_feature(cartopy.feature.LAND, zorder=0, edgecolor='black')\n",
    "\n",
    "ax.set_global()\n",
    "ax.gridlines()\n",
    "\n",
    "x, y, u, v, vector_crs = sample_data()\n",
    "ax.quiver(x, y, u, v, transform=vector_crs)\n",
    "\n",
    "plt.show()"
   ]
  },
  {
   "cell_type": "markdown",
   "metadata": {},
   "source": [
    "## Putting it back together\n",
    "\n",
    "Now, let's work with our global temperature anomaly dataset.  We will use xarray to select some times, and visualize the anomalies on a two panel plot."
   ]
  },
  {
   "cell_type": "code",
   "execution_count": null,
   "metadata": {},
   "outputs": [],
   "source": [
    "import cartopy.crs as ccrs\n",
    "import matplotlib.ticker as mticker"
   ]
  },
  {
   "cell_type": "code",
   "execution_count": null,
   "metadata": {},
   "outputs": [],
   "source": [
    "nc=xr.open_dataset('https://www.esrl.noaa.gov/psd/thredds/dodsC/Datasets/gistemp/combined/250km/air.2x2.250.mon.anom.comb.nc')\n",
    "nc"
   ]
  },
  {
   "cell_type": "code",
   "execution_count": null,
   "metadata": {},
   "outputs": [],
   "source": [
    "#Select January 2017, make lats and lons 2D so basemap knows where to plot each point\n",
    "\n",
    "jan1976 = nc.sel(time=pd.datetime(1976,1,1))\n",
    "jan2018 = nc.sel(time=pd.datetime(2018,1,1))"
   ]
  },
  {
   "cell_type": "markdown",
   "metadata": {},
   "source": [
    "Here, let's plot the anomalies from these two time periods on a rectangular map projection called \"PlateCarree\" in a two panel plot."
   ]
  },
  {
   "cell_type": "code",
   "execution_count": null,
   "metadata": {},
   "outputs": [],
   "source": [
    "# select data we want\n",
    "data = jan1976['air']\n",
    "data2 = jan2018['air']\n",
    "\n",
    "# create figure, axes instances.\n",
    "fig = plt.figure(figsize=(12, 3))\n",
    "\n",
    "ax = plt.subplot(1, 2, 1, projection=ccrs.PlateCarree())\n",
    "data.plot.contourf(ax=ax, transform=ccrs.PlateCarree(), levels=np.linspace(-12, 12, 25));\n",
    "ax.set_global(); \n",
    "ax.coastlines();\n",
    "#set up the gridlines\n",
    "gl = ax.gridlines(crs=ccrs.PlateCarree(), draw_labels=False,\n",
    "                  linewidth=1, color='gray', alpha=0.5, linestyle='-')\n",
    "#set where the gridlines go\n",
    "gl.xlocator = mticker.FixedLocator(np.arange(-180,181,15))\n",
    "gl.ylocator = mticker.FixedLocator(np.arange(-90,91,15))\n",
    "\n",
    "ax2 = plt.subplot(1, 2, 2, projection=ccrs.PlateCarree())\n",
    "data2.plot.contourf(ax=ax2, transform=ccrs.PlateCarree(), levels=np.linspace(-12, 12, 25));\n",
    "ax2.set_global(); \n",
    "ax2.coastlines();\n",
    "\n",
    "gl2 = ax2.gridlines(crs=ccrs.PlateCarree(), draw_labels=False,\n",
    "                  linewidth=1, color='gray', alpha=0.5, linestyle='-')\n",
    "\n",
    "gl2.ylocator = mticker.FixedLocator(np.arange(-90,91,15))\n",
    "gl2.xlocator = mticker.FixedLocator(np.arange(-180,181,15))\n",
    "\n",
    "plt.tight_layout()\n",
    "plt.show()"
   ]
  },
  {
   "cell_type": "markdown",
   "metadata": {},
   "source": [
    "Let's zoom in to the Eastern US - and add some fancy stuff like country and state borders, and lakes."
   ]
  },
  {
   "cell_type": "code",
   "execution_count": null,
   "metadata": {},
   "outputs": [],
   "source": [
    "import cartopy.feature as cfeature\n",
    "\n",
    "# select data we want\n",
    "data = jan1976['air']\n",
    "data2 = jan2018['air']\n",
    "\n",
    "# create figure, axes instances.\n",
    "fig = plt.figure(figsize=(12, 6))\n",
    "\n",
    "cartopy_proj = projection=ccrs.Mercator()\n",
    "\n",
    "ax = plt.subplot(1, 2, 1, projection=cartopy_proj)\n",
    "data.plot.contourf(ax=ax, transform=ccrs.PlateCarree(), levels=np.linspace(-12, 12, 25));\n",
    "ax.set_extent([-100,-80,30.,50.], crs=ccrs.PlateCarree()) \n",
    "ax.coastlines();\n",
    "ax.add_feature(cfeature.STATES, edgecolor='gray')\n",
    "ax.add_feature(cfeature.LAKES, edgecolor='gray')\n",
    "ax.add_feature(cfeature.BORDERS, edgecolor='gray')\n",
    "#set up the gridlines\n",
    "gl = ax.gridlines(crs=ccrs.PlateCarree(), draw_labels=False,\n",
    "                  linewidth=2, color='gray', alpha=0.5, linestyle='-')\n",
    "#set where the gridlines go\n",
    "gl.xlocator = mticker.FixedLocator(np.arange(-180,181,5))\n",
    "gl.ylocator = mticker.FixedLocator(np.arange(-90,90,5))\n",
    "\n",
    "ax2 = plt.subplot(1, 2, 2, projection=cartopy_proj)\n",
    "data2.plot.contourf(ax=ax2, transform=ccrs.PlateCarree(), levels=np.linspace(-12, 12, 25));\n",
    "ax2.set_extent([-100,-80,30.,50.], crs=ccrs.PlateCarree()) \n",
    "ax2.coastlines();\n",
    "ax2.add_feature(cfeature.STATES.with_scale('50m'), edgecolor='gray') \n",
    "ax2.add_feature(cfeature.LAKES, edgecolor='gray')\n",
    "ax2.add_feature(cfeature.BORDERS, edgecolor='gray')\n",
    "gl2 = ax2.gridlines(crs=ccrs.PlateCarree(), draw_labels=False,\n",
    "                  linewidth=2, color='gray', alpha=0.5, linestyle='-')\n",
    "\n",
    "gl2.ylocator = mticker.FixedLocator(np.arange(-90,90,5))\n",
    "gl2.xlocator = mticker.FixedLocator(np.arange(-180,181,5))\n",
    "\n",
    "plt.tight_layout()\n",
    "plt.show()"
   ]
  },
  {
   "cell_type": "code",
   "execution_count": null,
   "metadata": {},
   "outputs": [],
   "source": []
  }
 ],
 "metadata": {
  "anaconda-cloud": {},
  "kernelspec": {
   "display_name": "Python 3.6",
   "language": "python",
   "name": "python36"
  },
  "language_info": {
   "codemirror_mode": {
    "name": "ipython",
    "version": 3
   },
   "file_extension": ".py",
   "mimetype": "text/x-python",
   "name": "python",
   "nbconvert_exporter": "python",
   "pygments_lexer": "ipython3",
   "version": "3.6.3"
  },
  "name": "Week 5 Exercise 2 - Data visualization.ipynb"
 },
 "nbformat": 4,
 "nbformat_minor": 1
}
