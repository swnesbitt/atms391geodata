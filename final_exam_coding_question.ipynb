{
  "nbformat": 4,
  "nbformat_minor": 0,
  "metadata": {
    "colab": {
      "name": "keeling_analysis.ipynb",
      "version": "0.3.2",
      "views": {},
      "default_view": {},
      "provenance": []
    },
    "kernelspec": {
      "display_name": "Python 3.6",
      "language": "python",
      "name": "python36"
    }
  },
  "cells": [
    {
      "metadata": {
        "id": "xnPP83EGV3Lh",
        "colab_type": "text"
      },
      "cell_type": "markdown",
      "source": [
        "# ATMS 305 Geophysical Data Analysis\n",
        "# Final Exam\n",
        "\n",
        "Do your best in the time available to perform the data analysis tasks shown below.\n",
        "\n",
        "We are using data from the Mauna Loa Observatory, where the world's longest continuous observations of CO$_2$ concentrations have been collected.  These data were originally collected by Charles Keeling, a 1948 University of Illinois graduate, and is one of the most important datasets in atmospheric sciences today showing the increase in anthropogenic carbon emissions."
      ]
    },
    {
      "metadata": {
        "id": "oHdIjEnxV-ro",
        "colab_type": "code",
        "colab": {
          "autoexec": {
            "startup": false,
            "wait_interval": 0
          }
        }
      },
      "cell_type": "code",
      "source": [
        "#run this cell to download the file\n",
        "!curl -o weekly_in_situ_co2_mlo.csv http://scrippsco2.ucsd.edu/assets/data/atmospheric/stations/in_situ_co2/weekly/weekly_in_situ_co2_mlo.csv"
      ],
      "execution_count": 0,
      "outputs": []
    },
    {
      "metadata": {
        "id": "FqtZOabaV3Lj",
        "colab_type": "text"
      },
      "cell_type": "markdown",
      "source": [
        "<hr>\n",
        "\n",
        "(0) Make a global map using `cartopy` or `basemap` showing a point with the location of the Mauna Loa Observatory. The latitude-logitude coordinates of the observatory is 19.5364° N, 155.5765° W."
      ]
    },
    {
      "metadata": {
        "id": "1AL9h3h4V3Lj",
        "colab_type": "code",
        "colab": {
          "autoexec": {
            "startup": false,
            "wait_interval": 0
          }
        }
      },
      "cell_type": "code",
      "source": [
        ""
      ],
      "execution_count": 0,
      "outputs": []
    },
    {
      "metadata": {
        "id": "i-5MXwOIV3Lm",
        "colab_type": "text"
      },
      "cell_type": "markdown",
      "source": [
        "<hr>\n",
        "\n",
        "(1) Load the file downloaded above (`weekly_in_situ_co2_mlo.csv`) using `pandas`.  Make the column names `Date` and `CO2`. Display latest 52 weeks of data to the screen.  What was the highest recorded weekly value in the last year and when did it occur?"
      ]
    },
    {
      "metadata": {
        "id": "ocug8nhTV3Ln",
        "colab_type": "code",
        "colab": {
          "autoexec": {
            "startup": false,
            "wait_interval": 0
          }
        }
      },
      "cell_type": "code",
      "source": [
        "import pandas as pd\n",
        "df = pd.read_csv('weekly_in_situ_co2_mlo.csv', names=['Date','CO2'], skiprows=44)\n",
        "df.tail(52)"
      ],
      "execution_count": 0,
      "outputs": []
    },
    {
      "metadata": {
        "id": "JUzn9YPbV3Lp",
        "colab_type": "text"
      },
      "cell_type": "markdown",
      "source": [
        "<hr>\n",
        "\n",
        "(2) Convert the `Date` column to be a datetime dataframe index for the dataframe."
      ]
    },
    {
      "metadata": {
        "id": "R8qy5At4V3Lq",
        "colab_type": "code",
        "colab": {
          "autoexec": {
            "startup": false,
            "wait_interval": 0
          }
        }
      },
      "cell_type": "code",
      "source": [
        ""
      ],
      "execution_count": 0,
      "outputs": []
    },
    {
      "metadata": {
        "id": "vkZiqYfpV3Lt",
        "colab_type": "text"
      },
      "cell_type": "markdown",
      "source": [
        "<hr>\n",
        "\n",
        "(3) Perform a `groupby` or `resample` the dataframe to compute annual averages of CO$_2$ concentration."
      ]
    },
    {
      "metadata": {
        "id": "J-Qw7sFYV3Lt",
        "colab_type": "code",
        "colab": {
          "autoexec": {
            "startup": false,
            "wait_interval": 0
          }
        }
      },
      "cell_type": "code",
      "source": [
        ""
      ],
      "execution_count": 0,
      "outputs": []
    },
    {
      "metadata": {
        "id": "vKE6IATWV3Lv",
        "colab_type": "text"
      },
      "cell_type": "markdown",
      "source": [
        "<hr>\n",
        "\n",
        "(4) Overlay *both* the raw weekly data *and* the annual-resampled/grouped data on the same **time series plot** over the period of record.  Include a legend and appropriate axis labels (with units) for full credit."
      ]
    },
    {
      "metadata": {
        "id": "fp9GsM_2V3Lx",
        "colab_type": "code",
        "colab": {
          "autoexec": {
            "startup": false,
            "wait_interval": 0
          }
        }
      },
      "cell_type": "code",
      "source": [
        ""
      ],
      "execution_count": 0,
      "outputs": []
    },
    {
      "metadata": {
        "id": "fNwwlOKbV3Lz",
        "colab_type": "text"
      },
      "cell_type": "markdown",
      "source": [
        "<hr>\n",
        "(5) Climatologically, which month on average has the highest CO$_2$ concentration?  Hint: You'll need to use `pandas` to create averages for each month across all years for the entire dataset -- your answer will be a single month and not a month, year because you will average over all years.  Print a `pandas` dataframe sorted from highest to lowest monthly values of CO$_2$ concentration to support your answer."
      ]
    },
    {
      "metadata": {
        "id": "SS4Zm-LiV3L0",
        "colab_type": "code",
        "colab": {
          "autoexec": {
            "startup": false,
            "wait_interval": 0
          }
        }
      },
      "cell_type": "code",
      "source": [
        ""
      ],
      "execution_count": 0,
      "outputs": []
    }
  ]
}