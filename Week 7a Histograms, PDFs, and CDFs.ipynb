{
 "cells": [
  {
   "cell_type": "markdown",
   "metadata": {},
   "source": [
    "# ATMS 391: Week 7a\n",
    "## Histograms, PDFs, and CDFs\n",
    "\n",
    "In this exercise, we will practicing plotting the histograms, Probability Distribution Functions, and Cumulative Distribution Functions of a dataset.  We'll use the precipitation dataset we used previously."
   ]
  },
  {
   "cell_type": "code",
   "execution_count": 42,
   "metadata": {
    "collapsed": false
   },
   "outputs": [
    {
     "data": {
      "text/plain": [
       "<xray.Dataset>\n",
       "Dimensions:    (lat: 36, lon: 72, nbnds: 2, time: 1385)\n",
       "Coordinates:\n",
       "  * lat        (lat) float32 87.5 82.5 77.5 72.5 67.5 62.5 57.5 52.5 47.5 ...\n",
       "  * lon        (lon) float32 2.5 7.5 12.5 17.5 22.5 27.5 32.5 37.5 42.5 47.5 ...\n",
       "  * time       (time) datetime64[ns] 1900-01-01 1900-02-01 1900-03-01 ...\n",
       "  * nbnds      (nbnds) int64 0 1\n",
       "Data variables:\n",
       "    time_bnds  (time, nbnds) float64 9.969e+36 9.969e+36 9.969e+36 9.969e+36 ...\n",
       "    precip     (time, lat, lon) float64 nan nan nan nan nan nan nan nan nan ...\n",
       "Attributes:\n",
       "    platform: Surface Land\n",
       "    title: GHCN version 2 Land Precipitation Mean\n",
       "    history: Originally created at NOAA/ESRL PSD by CAS 10/2011 from files obtained at NCDC\n",
       "    Conventions: CF-1.0\n",
       "    references: http://www.esrl.noaa.gov/psd/data/gridded/data.ghcnv2.html\n",
       "    Source: Obtained from http://www.ncdc.noaa.gov/temp-and-precip/ghcn-gridded-products.php via ftp ftp://ftp.ncdc.noaa.gov/pub/data/ghcn/v2/grid/"
      ]
     },
     "execution_count": 42,
     "metadata": {},
     "output_type": "execute_result"
    }
   ],
   "source": [
    "%matplotlib inline\n",
    "\n",
    "import numpy as np\n",
    "import matplotlib.pyplot as plt\n",
    "\n",
    "import xray\n",
    "\n",
    "precip = xray.open_dataset('precip.mon.total.nc')\n",
    "precip"
   ]
  },
  {
   "cell_type": "markdown",
   "metadata": {},
   "source": [
    "Let's look at how the distribution of Tropical precipitation rates have changed over time.  Let's group the data by decade, and plot a distribution of the point by point precipitation rates within that region.\n",
    "\n",
    "First, let's subset the data by space."
   ]
  },
  {
   "cell_type": "code",
   "execution_count": 43,
   "metadata": {
    "collapsed": false
   },
   "outputs": [
    {
     "data": {
      "text/plain": [
       "<xray.DataArray 'precip' (time: 1385, lat: 8, lon: 72)>\n",
       "[797760 values with dtype=float64]\n",
       "Coordinates:\n",
       "  * lat      (lat) float32 17.5 12.5 7.5 2.5 -2.5 -7.5 -12.5 -17.5\n",
       "  * lon      (lon) float32 2.5 7.5 12.5 17.5 22.5 27.5 32.5 37.5 42.5 47.5 ...\n",
       "  * time     (time) datetime64[ns] 1900-01-01 1900-02-01 1900-03-01 ...\n",
       "Attributes:\n",
       "    dataset: GHCN version 2 Gridded Land Precipitation Dataset\n",
       "    var_desc: Precipitation\n",
       "    level_desc: Surface\n",
       "    statistic: Mean\n",
       "    parent_stat: Observation\n",
       "    valid_range: [-1000.  2000.]\n",
       "    actual_range: [ -518.34997559  1693.90002441]\n",
       "    units: mm\n",
       "    long_name: GHCN V2 Gridded Precipitation\n",
       "    precision: 2\n",
       "    cell_methods: time: average (monthly from values)\n",
       "    standard_name: precip"
      ]
     },
     "execution_count": 43,
     "metadata": {},
     "output_type": "execute_result"
    }
   ],
   "source": [
    "precip_space_subset=precip['precip'][:,np.abs(precip['lat']) < 20.,:]\n",
    "precip_space_subset"
   ]
  },
  {
   "cell_type": "code",
   "execution_count": 46,
   "metadata": {
    "collapsed": false
   },
   "outputs": [
    {
     "data": {
      "text/plain": [
       "<xray.DataArray 'precip' (time: 120, lat: 8, lon: 72)>\n",
       "array([[[             nan,              nan,              nan, ...,\n",
       "                      nan,              nan,   1.99999996e-02],\n",
       "        [             nan,              nan,              nan, ...,\n",
       "           1.38999999e+00,              nan,              nan],\n",
       "        [  2.08799992e+01,              nan,              nan, ...,\n",
       "                      nan,              nan,   2.81000004e+01],\n",
       "        ..., \n",
       "        [             nan,              nan,              nan, ...,\n",
       "                      nan,              nan,              nan],\n",
       "        [             nan,              nan,              nan, ...,\n",
       "                      nan,              nan,              nan],\n",
       "        [             nan,              nan,              nan, ...,\n",
       "                      nan,              nan,              nan]],\n",
       "\n",
       "       [[             nan,              nan,              nan, ...,\n",
       "                      nan,              nan,  -1.00000001e-01],\n",
       "        [             nan,              nan,              nan, ...,\n",
       "           1.25999999e+00,              nan,              nan],\n",
       "        [  5.43300018e+01,              nan,              nan, ...,\n",
       "                      nan,              nan,   3.48499985e+01],\n",
       "        ..., \n",
       "        [             nan,              nan,   7.48399963e+01, ...,\n",
       "                      nan,              nan,              nan],\n",
       "        [             nan,              nan,              nan, ...,\n",
       "                      nan,              nan,              nan],\n",
       "        [             nan,              nan,              nan, ...,\n",
       "                      nan,              nan,              nan]],\n",
       "\n",
       "       [[             nan,              nan,              nan, ...,\n",
       "                      nan,              nan,   1.89999998e-01],\n",
       "        [             nan,              nan,              nan, ...,\n",
       "           4.55999994e+00,              nan,              nan],\n",
       "        [  4.92500000e+01,              nan,              nan, ...,\n",
       "                      nan,              nan,   6.47799988e+01],\n",
       "        ..., \n",
       "        [             nan,              nan,   2.87500000e+01, ...,\n",
       "                      nan,              nan,              nan],\n",
       "        [             nan,              nan,              nan, ...,\n",
       "                      nan,              nan,              nan],\n",
       "        [             nan,              nan,              nan, ...,\n",
       "                      nan,              nan,              nan]],\n",
       "\n",
       "       ..., \n",
       "       [[             nan,              nan,              nan, ...,\n",
       "           1.42100000e+01,              nan,   1.98000002e+00],\n",
       "        [  3.76699982e+01,   1.70900002e+01,   5.05999994e+00, ...,\n",
       "           1.11860001e+02,   4.24000015e+01,   5.28600006e+01],\n",
       "        [  1.46070007e+02,   1.21730003e+02,   1.63399994e+02, ...,\n",
       "           3.30779999e+02,   2.02460007e+02,   1.89399994e+02],\n",
       "        ..., \n",
       "        [             nan,              nan,   1.96900005e+01, ...,\n",
       "                      nan,              nan,              nan],\n",
       "        [             nan,              nan,              nan, ...,\n",
       "                      nan,              nan,              nan],\n",
       "        [             nan,              nan,              nan, ...,\n",
       "                      nan,              nan,              nan]],\n",
       "\n",
       "       [[             nan,              nan,              nan, ...,\n",
       "          -1.04999995e+00,              nan,  -2.99999993e-02],\n",
       "        [  2.30000004e-01,   1.80000007e-01,   5.00000007e-02, ...,\n",
       "           1.68799992e+01,   3.09999990e+00,   1.04700003e+01],\n",
       "        [  2.78500004e+01,   1.50000000e+01,   5.74000015e+01, ...,\n",
       "           1.46080002e+02,   6.39199982e+01,   7.18700027e+01],\n",
       "        ..., \n",
       "        [             nan,              nan,   1.29179993e+02, ...,\n",
       "                      nan,              nan,              nan],\n",
       "        [             nan,              nan,              nan, ...,\n",
       "                      nan,              nan,              nan],\n",
       "        [             nan,              nan,              nan, ...,\n",
       "                      nan,              nan,              nan]],\n",
       "\n",
       "       [[             nan,              nan,              nan, ...,\n",
       "          -1.00000001e-01,              nan,   9.99999978e-03],\n",
       "        [ -9.20000017e-01,   6.61000013e+00,  -3.99999991e-02, ...,\n",
       "           1.19000006e+00,   3.30000013e-01,   2.69000006e+00],\n",
       "        [  3.86599998e+01,   3.52999997e+00,   1.51199999e+01, ...,\n",
       "           2.45100002e+01,   4.15600014e+01,   3.24700012e+01],\n",
       "        ..., \n",
       "        [             nan,              nan,   8.79000015e+01, ...,\n",
       "                      nan,              nan,              nan],\n",
       "        [             nan,              nan,              nan, ...,\n",
       "                      nan,              nan,              nan],\n",
       "        [             nan,              nan,              nan, ...,\n",
       "                      nan,              nan,              nan]]])\n",
       "Coordinates:\n",
       "  * lat      (lat) float32 17.5 12.5 7.5 2.5 -2.5 -7.5 -12.5 -17.5\n",
       "  * lon      (lon) float32 2.5 7.5 12.5 17.5 22.5 27.5 32.5 37.5 42.5 47.5 ...\n",
       "  * time     (time) datetime64[ns] 1900-01-01 1900-02-01 1900-03-01 ...\n",
       "Attributes:\n",
       "    dataset: GHCN version 2 Gridded Land Precipitation Dataset\n",
       "    var_desc: Precipitation\n",
       "    level_desc: Surface\n",
       "    statistic: Mean\n",
       "    parent_stat: Observation\n",
       "    valid_range: [-1000.  2000.]\n",
       "    actual_range: [ -518.34997559  1693.90002441]\n",
       "    units: mm\n",
       "    long_name: GHCN V2 Gridded Precipitation\n",
       "    precision: 2\n",
       "    cell_methods: time: average (monthly from values)\n",
       "    standard_name: precip"
      ]
     },
     "execution_count": 46,
     "metadata": {},
     "output_type": "execute_result"
    }
   ],
   "source": [
    "precip_time_subset=precip_space_subset.sel(time=slice('1900-01-01', '1909-12-31'))\n",
    "precip_time_subset\n",
    "#print(precip_time_subset['time'])"
   ]
  },
  {
   "cell_type": "markdown",
   "metadata": {},
   "source": [
    "OK, now that we know how to create a subset, let's do the statistical analysis of this field.  First, let's create a histogram of all the values (note we are not doing any spatial or time averaging, just subsetting), and we will set up the bins in the histogram to have 31 values, 30 mm wide between 0 and 900 mm.  These are the bin edges.  The plt.hist function will count the values between the bin edges, and display them as a plot.  Then we will create a PDF by enabling `normed=True`, and a CDF by `normed=True` and `cumulative=True`, respectively.  Note that the returned value has the values, and the bin **edges**."
   ]
  },
  {
   "cell_type": "code",
   "execution_count": 56,
   "metadata": {
    "collapsed": false
   },
   "outputs": [
    {
     "data": {
      "image/png": "[encoded data removed]",
      "text/plain": [
       "<matplotlib.figure.Figure at 0x7fb9f230cd90>"
      ]
     },
     "metadata": {},
     "output_type": "display_data"
    }
   ],
   "source": [
    "hist_1910=plt.hist(precip_time_subset.values.ravel(), bins=30*np.arange(31));"
   ]
  },
  {
   "cell_type": "code",
   "execution_count": 48,
   "metadata": {
    "collapsed": false
   },
   "outputs": [
    {
     "data": {
      "text/plain": [
       "(array([  2.74400000e+03,   1.13500000e+03,   9.27000000e+02,\n",
       "          8.69000000e+02,   7.55000000e+02,   6.94000000e+02,\n",
       "          5.73000000e+02,   5.02000000e+02,   3.90000000e+02,\n",
       "          3.04000000e+02,   2.61000000e+02,   1.98000000e+02,\n",
       "          1.43000000e+02,   1.11000000e+02,   9.60000000e+01,\n",
       "          6.40000000e+01,   5.80000000e+01,   5.30000000e+01,\n",
       "          5.60000000e+01,   1.70000000e+01,   2.20000000e+01,\n",
       "          1.40000000e+01,   5.00000000e+00,   1.20000000e+01,\n",
       "          8.00000000e+00,   1.30000000e+01,   5.00000000e+00,\n",
       "          3.00000000e+00,   3.00000000e+00,   1.00000000e+00]),\n",
       " array([  0,  30,  60,  90, 120, 150, 180, 210, 240, 270, 300, 330, 360,\n",
       "        390, 420, 450, 480, 510, 540, 570, 600, 630, 660, 690, 720, 750,\n",
       "        780, 810, 840, 870, 900]),\n",
       " <a list of 30 Patch objects>)"
      ]
     },
     "execution_count": 48,
     "metadata": {},
     "output_type": "execute_result"
    }
   ],
   "source": [
    "hist_1910"
   ]
  },
  {
   "cell_type": "code",
   "execution_count": 49,
   "metadata": {
    "collapsed": false
   },
   "outputs": [
    {
     "data": {
      "image/png": "[encoded data removed]",
      "text/plain": [
       "<matplotlib.figure.Figure at 0x7fb9f2891390>"
      ]
     },
     "metadata": {},
     "output_type": "display_data"
    }
   ],
   "source": [
    "pdf_1910=plt.hist(precip_time_subset.values.ravel(), bins=30*np.arange(31), normed=True);"
   ]
  },
  {
   "cell_type": "code",
   "execution_count": 50,
   "metadata": {
    "collapsed": false
   },
   "outputs": [
    {
     "data": {
      "text/plain": [
       "(array([  9.11385678e-03,   3.76976219e-03,   3.07891590e-03,\n",
       "          2.88627607e-03,   2.50763917e-03,   2.30503521e-03,\n",
       "          1.90314866e-03,   1.66733094e-03,   1.29533679e-03,\n",
       "          1.00969842e-03,   8.66879235e-04,   6.57632523e-04,\n",
       "          4.74956822e-04,   3.68672778e-04,   3.18852132e-04,\n",
       "          2.12568088e-04,   1.92639830e-04,   1.76032948e-04,\n",
       "          1.85997077e-04,   5.64633984e-05,   7.30702803e-05,\n",
       "          4.64992693e-05,   1.66068819e-05,   3.98565165e-05,\n",
       "          2.65710110e-05,   4.31778929e-05,   1.66068819e-05,\n",
       "          9.96412914e-06,   9.96412914e-06,   3.32137638e-06]),\n",
       " array([  0,  30,  60,  90, 120, 150, 180, 210, 240, 270, 300, 330, 360,\n",
       "        390, 420, 450, 480, 510, 540, 570, 600, 630, 660, 690, 720, 750,\n",
       "        780, 810, 840, 870, 900]),\n",
       " <a list of 30 Patch objects>)"
      ]
     },
     "execution_count": 50,
     "metadata": {},
     "output_type": "execute_result"
    }
   ],
   "source": [
    "pdf_1910"
   ]
  },
  {
   "cell_type": "code",
   "execution_count": 51,
   "metadata": {
    "collapsed": false
   },
   "outputs": [
    {
     "data": {
      "image/png": "[encoded data removed]",
      "text/plain": [
       "<matplotlib.figure.Figure at 0x7fb9f2aa5a10>"
      ]
     },
     "metadata": {},
     "output_type": "display_data"
    }
   ],
   "source": [
    "cdf_1910=plt.hist(precip_time_subset.values.ravel(), bins=30*np.arange(31), normed=True, cumulative=True)"
   ]
  },
  {
   "cell_type": "code",
   "execution_count": null,
   "metadata": {
    "collapsed": false
   },
   "outputs": [],
   "source": [
    "cdf_1910"
   ]
  },
  {
   "cell_type": "markdown",
   "metadata": {},
   "source": [
    "Note that the distribution is far from \"normal\" - the left tail of the distribution is \"heavier\" than the right tail.  This physically corresponds with a higher probability of light rain than heavy rain in the observations which makes sense.  Examine how the PDF and CDF looks in this case corresponding with this distribution.\n",
    "\n",
    "---\n",
    "\n",
    "Now, let's process all of the decades.  I'll set up a `for` loop to process through.  We will use `pandas` handy built in date functionality which is nice for selecting date periods automatically. Decades can be selected using 10AS as the frequency string, and we'll select 11 decades starting in 1900."
   ]
  },
  {
   "cell_type": "code",
   "execution_count": 67,
   "metadata": {
    "collapsed": false
   },
   "outputs": [
    {
     "name": "stdout",
     "output_type": "stream",
     "text": [
      "DatetimeIndex(['1900-01-01', '1910-01-01', '1920-01-01', '1930-01-01',\n",
      "               '1940-01-01', '1950-01-01', '1960-01-01', '1970-01-01',\n",
      "               '1980-01-01', '1990-01-01', '2000-01-01'],\n",
      "              dtype='datetime64[ns]', freq='10AS-JAN', tz=None)\n",
      "DatetimeIndex(['1909-12-31', '1919-12-31', '1929-12-31', '1939-12-31',\n",
      "               '1949-12-31', '1959-12-31', '1969-12-31', '1979-12-31',\n",
      "               '1989-12-31', '1999-12-31', '2009-12-31'],\n",
      "              dtype='datetime64[ns]', freq='10A-DEC', tz=None)\n"
     ]
    }
   ],
   "source": [
    "import pandas as pd\n",
    "\n",
    "time_start = pd.date_range('1900-01-01', freq='10AS', periods=11)\n",
    "time_end = pd.date_range('1909-12-31', freq='10A', periods=11)\n",
    "print(time_start)\n",
    "print(time_end)"
   ]
  },
  {
   "cell_type": "markdown",
   "metadata": {},
   "source": [
    "Now, it is just a matter of looping over the decades, storing the data into arrays, and then plotting.  We will set up a numpy array to store the data from the histograms.  Instead of `plt.hist` i'll use `np.histogram`, which is very similar, because I don't want to plot the data yet."
   ]
  },
  {
   "cell_type": "code",
   "execution_count": 72,
   "metadata": {
    "collapsed": false
   },
   "outputs": [],
   "source": [
    "ndecades=len(time_start)\n",
    "\n",
    "#bins for histograms\n",
    "bins=30*np.arange(31)\n",
    "#What is going on here?  Test!\n",
    "bin_centers=bins[0:-1]+np.diff(bins)/2.\n",
    "nbins=len(bins)\n",
    "\n",
    "#need to subtract 1 from nbins because bins are the edges\n",
    "#and are 1 more value than the histogram\n",
    "histogram_decades=np.zeros((nbins-1,ndecades))\n",
    "\n",
    "for i in np.arange(ndecades):\n",
    "    data_this_decade=precip_space_subset.sel(time=slice(time_start[i], time_end[i]))\n",
    "    histogram_decades[:,i]=np.histogram(data_this_decade,bins=bins)[0]\n"
   ]
  },
  {
   "cell_type": "code",
   "execution_count": 73,
   "metadata": {
    "collapsed": false
   },
   "outputs": [
    {
     "data": {
      "text/plain": [
       "array([[  2.74400000e+03,   3.70100000e+03,   4.57100000e+03,\n",
       "          5.58800000e+03,   6.18600000e+03,   6.84900000e+03,\n",
       "          7.29400000e+03,   7.21900000e+03,   7.15600000e+03,\n",
       "          5.33300000e+03,   3.66600000e+03],\n",
       "       [  1.13500000e+03,   1.51700000e+03,   1.80900000e+03,\n",
       "          2.24200000e+03,   2.25300000e+03,   2.81300000e+03,\n",
       "          2.86400000e+03,   2.86300000e+03,   2.82200000e+03,\n",
       "          2.20000000e+03,   1.63800000e+03],\n",
       "       [  9.27000000e+02,   1.30200000e+03,   1.59700000e+03,\n",
       "          1.80100000e+03,   1.93100000e+03,   2.24000000e+03,\n",
       "          2.43500000e+03,   2.46300000e+03,   2.43100000e+03,\n",
       "          1.97300000e+03,   1.48400000e+03],\n",
       "       [  8.69000000e+02,   1.18100000e+03,   1.45700000e+03,\n",
       "          1.73100000e+03,   1.67000000e+03,   2.02800000e+03,\n",
       "          2.20000000e+03,   2.21300000e+03,   2.23600000e+03,\n",
       "          1.68600000e+03,   1.22100000e+03],\n",
       "       [  7.55000000e+02,   1.04500000e+03,   1.28000000e+03,\n",
       "          1.55800000e+03,   1.60100000e+03,   1.91500000e+03,\n",
       "          2.02900000e+03,   2.10600000e+03,   1.98200000e+03,\n",
       "          1.57100000e+03,   1.11500000e+03],\n",
       "       [  6.94000000e+02,   8.83000000e+02,   1.12800000e+03,\n",
       "          1.38700000e+03,   1.32200000e+03,   1.68700000e+03,\n",
       "          1.81600000e+03,   1.78700000e+03,   1.78800000e+03,\n",
       "          1.34200000e+03,   9.87000000e+02],\n",
       "       [  5.73000000e+02,   8.34000000e+02,   9.53000000e+02,\n",
       "          1.21000000e+03,   1.20300000e+03,   1.55600000e+03,\n",
       "          1.65500000e+03,   1.62500000e+03,   1.54700000e+03,\n",
       "          1.10900000e+03,   8.04000000e+02],\n",
       "       [  5.02000000e+02,   6.53000000e+02,   8.20000000e+02,\n",
       "          1.00900000e+03,   9.82000000e+02,   1.28600000e+03,\n",
       "          1.39300000e+03,   1.37500000e+03,   1.32100000e+03,\n",
       "          9.41000000e+02,   6.97000000e+02],\n",
       "       [  3.90000000e+02,   5.31000000e+02,   6.67000000e+02,\n",
       "          8.72000000e+02,   8.46000000e+02,   1.12400000e+03,\n",
       "          1.17400000e+03,   1.20500000e+03,   1.04600000e+03,\n",
       "          8.04000000e+02,   5.45000000e+02],\n",
       "       [  3.04000000e+02,   4.18000000e+02,   5.07000000e+02,\n",
       "          6.77000000e+02,   5.79000000e+02,   8.77000000e+02,\n",
       "          9.66000000e+02,   9.11000000e+02,   8.71000000e+02,\n",
       "          5.91000000e+02,   4.85000000e+02],\n",
       "       [  2.61000000e+02,   3.36000000e+02,   3.93000000e+02,\n",
       "          5.25000000e+02,   4.92000000e+02,   7.43000000e+02,\n",
       "          7.52000000e+02,   7.33000000e+02,   6.83000000e+02,\n",
       "          4.79000000e+02,   3.57000000e+02],\n",
       "       [  1.98000000e+02,   2.67000000e+02,   3.23000000e+02,\n",
       "          3.95000000e+02,   3.62000000e+02,   5.43000000e+02,\n",
       "          5.81000000e+02,   5.97000000e+02,   5.59000000e+02,\n",
       "          3.99000000e+02,   3.13000000e+02],\n",
       "       [  1.43000000e+02,   2.22000000e+02,   2.45000000e+02,\n",
       "          3.07000000e+02,   3.01000000e+02,   4.06000000e+02,\n",
       "          4.20000000e+02,   4.07000000e+02,   4.55000000e+02,\n",
       "          3.08000000e+02,   2.25000000e+02],\n",
       "       [  1.11000000e+02,   1.35000000e+02,   2.00000000e+02,\n",
       "          1.98000000e+02,   2.31000000e+02,   3.22000000e+02,\n",
       "          3.53000000e+02,   3.55000000e+02,   3.37000000e+02,\n",
       "          2.28000000e+02,   1.69000000e+02],\n",
       "       [  9.60000000e+01,   1.26000000e+02,   1.64000000e+02,\n",
       "          1.78000000e+02,   1.21000000e+02,   2.12000000e+02,\n",
       "          2.25000000e+02,   2.61000000e+02,   2.53000000e+02,\n",
       "          1.80000000e+02,   1.45000000e+02],\n",
       "       [  6.40000000e+01,   9.70000000e+01,   1.26000000e+02,\n",
       "          1.15000000e+02,   9.60000000e+01,   1.88000000e+02,\n",
       "          1.74000000e+02,   1.93000000e+02,   1.75000000e+02,\n",
       "          1.23000000e+02,   1.11000000e+02],\n",
       "       [  5.80000000e+01,   5.90000000e+01,   1.01000000e+02,\n",
       "          9.70000000e+01,   7.80000000e+01,   1.29000000e+02,\n",
       "          1.43000000e+02,   1.45000000e+02,   1.28000000e+02,\n",
       "          9.90000000e+01,   6.40000000e+01],\n",
       "       [  5.30000000e+01,   5.00000000e+01,   5.70000000e+01,\n",
       "          7.90000000e+01,   6.20000000e+01,   8.80000000e+01,\n",
       "          1.05000000e+02,   1.13000000e+02,   7.40000000e+01,\n",
       "          5.60000000e+01,   7.90000000e+01],\n",
       "       [  5.60000000e+01,   3.80000000e+01,   6.70000000e+01,\n",
       "          6.60000000e+01,   3.60000000e+01,   5.90000000e+01,\n",
       "          8.20000000e+01,   6.30000000e+01,   6.50000000e+01,\n",
       "          6.00000000e+01,   6.40000000e+01],\n",
       "       [  1.70000000e+01,   3.30000000e+01,   4.20000000e+01,\n",
       "          5.10000000e+01,   3.40000000e+01,   5.60000000e+01,\n",
       "          4.10000000e+01,   6.40000000e+01,   5.30000000e+01,\n",
       "          4.30000000e+01,   3.10000000e+01],\n",
       "       [  2.20000000e+01,   3.20000000e+01,   3.00000000e+01,\n",
       "          3.80000000e+01,   2.10000000e+01,   3.80000000e+01,\n",
       "          4.10000000e+01,   5.40000000e+01,   4.10000000e+01,\n",
       "          2.80000000e+01,   3.70000000e+01],\n",
       "       [  1.40000000e+01,   1.90000000e+01,   4.30000000e+01,\n",
       "          2.70000000e+01,   2.70000000e+01,   2.40000000e+01,\n",
       "          3.10000000e+01,   2.10000000e+01,   3.80000000e+01,\n",
       "          2.50000000e+01,   2.20000000e+01],\n",
       "       [  5.00000000e+00,   1.40000000e+01,   1.60000000e+01,\n",
       "          1.70000000e+01,   9.00000000e+00,   2.70000000e+01,\n",
       "          2.10000000e+01,   2.70000000e+01,   2.10000000e+01,\n",
       "          1.20000000e+01,   1.30000000e+01],\n",
       "       [  1.20000000e+01,   1.60000000e+01,   2.00000000e+01,\n",
       "          1.80000000e+01,   1.00000000e+01,   1.90000000e+01,\n",
       "          2.00000000e+01,   1.70000000e+01,   1.20000000e+01,\n",
       "          1.30000000e+01,   1.20000000e+01],\n",
       "       [  8.00000000e+00,   1.00000000e+01,   1.30000000e+01,\n",
       "          1.10000000e+01,   8.00000000e+00,   1.10000000e+01,\n",
       "          2.00000000e+01,   1.50000000e+01,   1.10000000e+01,\n",
       "          6.00000000e+00,   7.00000000e+00],\n",
       "       [  1.30000000e+01,   7.00000000e+00,   7.00000000e+00,\n",
       "          1.50000000e+01,   6.00000000e+00,   1.20000000e+01,\n",
       "          8.00000000e+00,   8.00000000e+00,   2.00000000e+00,\n",
       "          4.00000000e+00,   7.00000000e+00],\n",
       "       [  5.00000000e+00,   5.00000000e+00,   9.00000000e+00,\n",
       "          6.00000000e+00,   7.00000000e+00,   9.00000000e+00,\n",
       "          7.00000000e+00,   6.00000000e+00,   6.00000000e+00,\n",
       "          8.00000000e+00,   6.00000000e+00],\n",
       "       [  3.00000000e+00,   3.00000000e+00,   9.00000000e+00,\n",
       "          1.00000000e+00,   4.00000000e+00,   7.00000000e+00,\n",
       "          1.40000000e+01,   5.00000000e+00,   5.00000000e+00,\n",
       "          3.00000000e+00,   3.00000000e+00],\n",
       "       [  3.00000000e+00,   2.00000000e+00,   7.00000000e+00,\n",
       "          8.00000000e+00,   3.00000000e+00,   6.00000000e+00,\n",
       "          2.00000000e+00,   5.00000000e+00,   4.00000000e+00,\n",
       "          4.00000000e+00,   4.00000000e+00],\n",
       "       [  1.00000000e+00,   3.00000000e+00,   4.00000000e+00,\n",
       "          4.00000000e+00,   1.00000000e+00,   6.00000000e+00,\n",
       "          3.00000000e+00,   1.00000000e+00,   6.00000000e+00,\n",
       "          2.00000000e+00,   2.00000000e+00]])"
      ]
     },
     "execution_count": 73,
     "metadata": {},
     "output_type": "execute_result"
    }
   ],
   "source": [
    "histogram_decades"
   ]
  },
  {
   "cell_type": "code",
   "execution_count": 74,
   "metadata": {
    "collapsed": false
   },
   "outputs": [
    {
     "data": {
      "image/png": "[encoded data removed]",
      "text/plain": [
       "<matplotlib.figure.Figure at 0x7fb9f2289650>"
      ]
     },
     "metadata": {},
     "output_type": "display_data"
    }
   ],
   "source": [
    "plt.figure()\n",
    "plt.plot(bin_centers,histogram_decades)\n",
    "plt.xlabel('Precipitation (mm/mon)')\n",
    "plt.ylabel('Histogram counts')\n",
    "plt.legend(time_start,fontsize=8)\n",
    "plt.show()"
   ]
  },
  {
   "cell_type": "markdown",
   "metadata": {},
   "source": [
    "Interestingly, it looks like there are more lications with stations in the mid-20th century than now in the Tropics.  This has been associated with a decline in the observational network in Africa.\n",
    "\n",
    "That takes care of the histogram, but what about the PDF?\n",
    "\n",
    "The definition of a PDF is the sum of the histogram divided by the total of the histogram, which yields the fraction or probability of obtaining a data in that range out of the population of datapoints.  We can divide the histogram by the sum on axis=0 (which will sum each decadal pdf) to get the PDF."
   ]
  },
  {
   "cell_type": "code",
   "execution_count": 75,
   "metadata": {
    "collapsed": false
   },
   "outputs": [],
   "source": [
    "pdf_decades=histogram_decades/np.sum(histogram_decades,axis=0)"
   ]
  },
  {
   "cell_type": "code",
   "execution_count": 76,
   "metadata": {
    "collapsed": false
   },
   "outputs": [
    {
     "data": {
      "image/png": "[encoded data removed]",
      "text/plain": [
       "<matplotlib.figure.Figure at 0x7fb9f227d910>"
      ]
     },
     "metadata": {},
     "output_type": "display_data"
    }
   ],
   "source": [
    "plt.figure()\n",
    "plt.plot(bin_centers,pdf_decades)\n",
    "plt.xlabel('Precipitation (mm/mon)')\n",
    "plt.ylabel('PDF')\n",
    "plt.legend(time_start,fontsize=8)\n",
    "plt.show()"
   ]
  },
  {
   "cell_type": "markdown",
   "metadata": {},
   "source": [
    "To get the CDF, we can use the `cumsum` object, which will sum the PDF over a specified axis, in this case we want axis 0, which are the precipitation rates."
   ]
  },
  {
   "cell_type": "code",
   "execution_count": null,
   "metadata": {
    "collapsed": true
   },
   "outputs": [],
   "source": [
    "cdf_decades=pdf_decades.cumsum(axis=0)"
   ]
  },
  {
   "cell_type": "code",
   "execution_count": 77,
   "metadata": {
    "collapsed": false
   },
   "outputs": [
    {
     "data": {
      "image/png": "[encoded data removed]",
      "text/plain": [
       "<matplotlib.figure.Figure at 0x7fb9f2b94310>"
      ]
     },
     "metadata": {},
     "output_type": "display_data"
    }
   ],
   "source": [
    "plt.figure()\n",
    "plt.plot(bin_centers,cdf_decades)\n",
    "plt.xlabel('Precipitation (mm/mon)')\n",
    "plt.xlabel('CDF')\n",
    "plt.legend(time_start,fontsize=8,loc='lower right')\n",
    "plt.show()"
   ]
  },
  {
   "cell_type": "markdown",
   "metadata": {},
   "source": [
    "OK, we see that the statistical distribution of observed Tropical rain rates is quite similar over the decades.  We have different numbers of stations, but the distribution of rain rates at those stations hasn't changed much.\n",
    "\n",
    "For you homework, you need to do the statistics when subsetting over space.  It is quite similar to what we did here."
   ]
  },
  {
   "cell_type": "code",
   "execution_count": null,
   "metadata": {
    "collapsed": true
   },
   "outputs": [],
   "source": []
  }
 ],
 "metadata": {
  "kernelspec": {
   "display_name": "Python 2",
   "language": "python",
   "name": "python2"
  },
  "language_info": {
   "codemirror_mode": {
    "name": "ipython",
    "version": 2
   },
   "file_extension": ".py",
   "mimetype": "text/x-python",
   "name": "python",
   "nbconvert_exporter": "python",
   "pygments_lexer": "ipython2",
   "version": "2.7.9"
  },
  "name": "Week 7a Histograms, PDFs, and CDFs.ipynb"
 },
 "nbformat": 4,
 "nbformat_minor": 0
}
